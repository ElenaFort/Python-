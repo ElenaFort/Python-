{
  "nbformat": 4,
  "nbformat_minor": 0,
  "metadata": {
    "colab": {
      "provenance": [],
      "authorship_tag": "ABX9TyN4pAysjRNWpnFvSfBunQD/"
    },
    "kernelspec": {
      "name": "python3",
      "display_name": "Python 3"
    },
    "language_info": {
      "name": "python"
    }
  },
  "cells": [
    {
      "cell_type": "markdown",
      "source": [
        "# **Урок 1. Оформление ноутбука и закрепление функций и генераторов**\n",
        "\n",
        "## Задача 1:\n",
        "Оформляйте ноутбук, используя эти советы:\n",
        "* Номер задачи - заголовок 2\n",
        "* Номер подзадачи - заголовок 3\n",
        "* Предоставленные наборы данных оформляйте, как код\n",
        "\n",
        "**Рекомендации для преподавателей по оценке задания:**\n",
        "Смотреть, чтобы студент красиво оформлял ноутбук, использовал ячейки с текстом, указывал номера заданий\n",
        "\n",
        "## Задача 2:\n",
        "На складе лежат разные фрукты в разном количестве. Нужно написать функцию, которая на вход принимает любое количество названий фруктов и их количество, а возвращает общее количество фруктов на складе"
      ],
      "metadata": {
        "id": "d9hp1DyJwIII"
      }
    },
    {
      "cell_type": "code",
      "execution_count": 78,
      "metadata": {
        "colab": {
          "base_uri": "https://localhost:8080/"
        },
        "id": "_KNUQKgKwCb1",
        "outputId": "9caa10e5-034d-4939-b751-d28da4bc794a"
      },
      "outputs": [
        {
          "output_type": "execute_result",
          "data": {
            "text/plain": [
              "{'sum': 122}"
            ]
          },
          "metadata": {},
          "execution_count": 78
        }
      ],
      "source": [
        "def fruits(**kwargs):\n",
        "  return {'sum': sum(kwargs.values())}\n",
        "fruits(oranges = 20, grape = 57, lemons = 11, apples = 34)\n",
        "\n"
      ]
    },
    {
      "cell_type": "markdown",
      "source": [
        "## Задача 3\n",
        "Дан список с затратами на рекламу. Но в данных есть ошибки, некоторые затраты имеют отрицательную величину. Удалите такие значения из списка и посчитайте суммарные затраты:\n",
        "\n",
        "[100, 125, -90, 345, 655, -1, 0, 200]\n",
        "\n",
        "*Используйте list comprehensions*"
      ],
      "metadata": {
        "id": "9ob9aolpK5MX"
      }
    },
    {
      "cell_type": "code",
      "source": [
        "cost_list = [100, 125, -90, 345, 655, -1, 0, 200]"
      ],
      "metadata": {
        "id": "C5ltjdrpLn0h"
      },
      "execution_count": 79,
      "outputs": []
    },
    {
      "cell_type": "code",
      "source": [
        "def expenses(cost_list): \n",
        "    return [_ for _ in cost_list if _ > 0]\n",
        "    \n",
        "expenses(cost_list)"
      ],
      "metadata": {
        "colab": {
          "base_uri": "https://localhost:8080/"
        },
        "id": "uAh9f9L-mgSg",
        "outputId": "6044cfc4-b092-42c8-ca4a-1e5cda5697c9"
      },
      "execution_count": 80,
      "outputs": [
        {
          "output_type": "execute_result",
          "data": {
            "text/plain": [
              "[100, 125, 345, 655, 200]"
            ]
          },
          "metadata": {},
          "execution_count": 80
        }
      ]
    },
    {
      "cell_type": "code",
      "source": [
        "print('Суммарные затраты: ', +sum(expenses(cost_list)))"
      ],
      "metadata": {
        "colab": {
          "base_uri": "https://localhost:8080/"
        },
        "id": "yXUb4Y2g2VD6",
        "outputId": "18e252bb-2a70-4307-ac7b-d7fef618285b"
      },
      "execution_count": 81,
      "outputs": [
        {
          "output_type": "stream",
          "name": "stdout",
          "text": [
            "Суммарные затраты:  1425\n"
          ]
        }
      ]
    },
    {
      "cell_type": "markdown",
      "source": [
        "## Задача 4:\n",
        "\n",
        "**Даны два списка:**\n",
        "\n",
        "*1. Дата покупки*\n",
        "\n",
        "['2021-09-14', '2021-12-15', '2021-09-08', '2021-12-05', '2021-10-09', '2021-09-30', '2021-12-22', '2021-11-29', '2021-12-24', '2021-11-26', '2021-10-27', '2021-12-18', '2021-11-09', '2021-11-23', '2021-09-27', '2021-10-02', '2021-12-27', '2021-09-20', '2021-12-13', '2021-11-01', '2021-11-09', '2021-12-06', '2021-12-08', '2021-10-09', '2021-10-31', '2021-09-30', '2021-11-09', '2021-12-13', '2021-10-26', '2021-12-09']\n",
        "\n",
        "*2. Суммы покупок по датам*\n",
        "\n",
        "[1270, 8413, 9028, 3703, 5739, 4095, 295, 4944, 5723, 3701, 4471, 651, 7037, 4274, 6275, 4988, 6930, 2971, 6592, 2004, 2822, 519, 3406, 2732, 5015, 2008, 316, 6333, 5700, 2887]\n",
        "\n",
        "### Подзадача 4.1 \n",
        "\n",
        "Найдите, какая выручка у компании в ноябре\n",
        "\n",
        "*Используйте list comprehensions*"
      ],
      "metadata": {
        "id": "w4Y8lHMR64ag"
      }
    },
    {
      "cell_type": "code",
      "source": [
        "data = ['2021-09-14', '2021-12-15', '2021-09-08', '2021-12-05', '2021-10-09', '2021-09-30', '2021-12-22',\n",
        "        '2021-11-29', '2021-12-24', '2021-11-26', '2021-10-27', '2021-12-18', '2021-11-09', '2021-11-23',\n",
        "        '2021-09-27', '2021-10-02', '2021-12-27', '2021-09-20', '2021-12-13', '2021-11-01', '2021-11-09',\n",
        "        '2021-12-06', '2021-12-08', '2021-10-09', '2021-10-31', '2021-09-30', '2021-11-09', '2021-12-13',\n",
        "        '2021-10-26', '2021-12-09']\n",
        "summa = [1270, 8413, 9028, 3703, 5739, 4095, 295, 4944, 5723, 3701, 4471, 651, 7037, 4274, 6275,\n",
        "         4988, 6930, 2971, 6592, 2004, 2822, 519, 3406, 2732, 5015, 2008, 316, 6333, 5700, 2887]"
      ],
      "metadata": {
        "id": "jS2lSph-9r4m"
      },
      "execution_count": 82,
      "outputs": []
    },
    {
      "cell_type": "code",
      "source": [
        "def revenue_november(data: list, summa: list):\n",
        "    return {summa[i] for i in range(len(data)) if '-11-' in data[i]}\n",
        "  \n",
        "result = revenue_november(data, summa)\n",
        "print(result)"
      ],
      "metadata": {
        "colab": {
          "base_uri": "https://localhost:8080/"
        },
        "id": "sbZKP3zb_-aW",
        "outputId": "b20af502-cfa4-4d3a-fbaa-5e6a0aec30c6"
      },
      "execution_count": 83,
      "outputs": [
        {
          "output_type": "stream",
          "name": "stdout",
          "text": [
            "{2822, 4944, 4274, 2004, 3701, 316, 7037}\n"
          ]
        }
      ]
    },
    {
      "cell_type": "code",
      "source": [
        "print('Суммарная выручка за ноябрь: ', +sum(result))"
      ],
      "metadata": {
        "colab": {
          "base_uri": "https://localhost:8080/"
        },
        "id": "Axu5BlJhTl1j",
        "outputId": "2c047ac6-0f24-4676-fdd6-7a57efe38fcd"
      },
      "execution_count": 84,
      "outputs": [
        {
          "output_type": "stream",
          "name": "stdout",
          "text": [
            "Суммарная выручка за ноябрь:  25098\n"
          ]
        }
      ]
    },
    {
      "cell_type": "markdown",
      "source": [
        "### Подзадача 4.2\n",
        "\n",
        "Найдите выручку компании в зависимости от месяца. Для этого напишите функцию, которая на вход принимает список с датами и список с выручкой, а на выходе словарь, где ключи - это месяцы, а значения - это выручка.\n",
        "Используйте аннотирование типов."
      ],
      "metadata": {
        "id": "aNR0HLAvUPw1"
      }
    },
    {
      "cell_type": "code",
      "source": [
        "def revenue_by_month(data: list, summa: list):\n",
        "    rev = {}\n",
        "    for dt, sm in zip(data, summa):\n",
        "        if dt[5:7] in rev.keys():\n",
        "            rev[dt[5:7]] = rev[dt[5:7]] + sm\n",
        "        else:\n",
        "            rev[dt[5:7]] = sm\n",
        "    return rev\n",
        "\n",
        "res = revenue_by_month(data, summa)\n",
        "print(res)"
      ],
      "metadata": {
        "colab": {
          "base_uri": "https://localhost:8080/"
        },
        "id": "KB0VpjQOUrXZ",
        "outputId": "4c479ea4-06ea-480f-a5d4-f904e118ec05"
      },
      "execution_count": 85,
      "outputs": [
        {
          "output_type": "stream",
          "name": "stdout",
          "text": [
            "{'09': 25647, '12': 45452, '10': 28645, '11': 25098}\n"
          ]
        }
      ]
    },
    {
      "cell_type": "code",
      "source": [
        "for key, value in res.items():\n",
        " print(\"{0}: {1}\".format(key,value))"
      ],
      "metadata": {
        "colab": {
          "base_uri": "https://localhost:8080/"
        },
        "id": "mMfYthYxsJ0Q",
        "outputId": "01e82a37-e16f-4f9a-e74f-fca44f452717"
      },
      "execution_count": 86,
      "outputs": [
        {
          "output_type": "stream",
          "name": "stdout",
          "text": [
            "09: 25647\n",
            "12: 45452\n",
            "10: 28645\n",
            "11: 25098\n"
          ]
        }
      ]
    }
  ]
}